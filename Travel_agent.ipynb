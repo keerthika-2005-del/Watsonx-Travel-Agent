{
 "cells": [
  {
   "cell_type": "code",
   "execution_count": null,
   "metadata": {
    "id": "31098648-dc20-4ff0-9875-2a811f854709",
    "msg_id": "04680d68-7c43-4437-84b6-5d29a8411ff2"
   },
   "outputs": [
    {
     "name": "stdout",
     "output_type": "stream",
     "text": [
      "Requirement already satisfied: openai in /opt/conda/envs/Python-RT24.1/lib/python3.11/site-packages (1.75.0)\n",
      "Requirement already satisfied: anyio<5,>=3.5.0 in /opt/conda/envs/Python-RT24.1/lib/python3.11/site-packages (from openai) (4.7.0)\n",
      "Requirement already satisfied: distro<2,>=1.7.0 in /opt/conda/envs/Python-RT24.1/lib/python3.11/site-packages (from openai) (1.9.0)\n",
      "Requirement already satisfied: httpx<1,>=0.23.0 in /opt/conda/envs/Python-RT24.1/lib/python3.11/site-packages (from openai) (0.28.1)\n",
      "Requirement already satisfied: jiter<1,>=0.4.0 in /opt/conda/envs/Python-RT24.1/lib/python3.11/site-packages (from openai) (0.6.1)\n",
      "Requirement already satisfied: pydantic<3,>=1.9.0 in /opt/conda/envs/Python-RT24.1/lib/python3.11/site-packages (from openai) (2.10.3)\n",
      "Requirement already satisfied: sniffio in /opt/conda/envs/Python-RT24.1/lib/python3.11/site-packages (from openai) (1.3.0)\n",
      "Requirement already satisfied: tqdm>4 in /opt/conda/envs/Python-RT24.1/lib/python3.11/site-packages (from openai) (4.66.4)\n",
      "Requirement already satisfied: typing-extensions<5,>=4.11 in /opt/conda/envs/Python-RT24.1/lib/python3.11/site-packages (from openai) (4.12.2)\n",
      "Requirement already satisfied: idna>=2.8 in /opt/conda/envs/Python-RT24.1/lib/python3.11/site-packages (from anyio<5,>=3.5.0->openai) (3.7)\n",
      "Requirement already satisfied: certifi in /opt/conda/envs/Python-RT24.1/lib/python3.11/site-packages (from httpx<1,>=0.23.0->openai) (2025.6.15)\n",
      "Requirement already satisfied: httpcore==1.* in /opt/conda/envs/Python-RT24.1/lib/python3.11/site-packages (from httpx<1,>=0.23.0->openai) (1.0.9)\n",
      "Requirement already satisfied: h11>=0.16 in /opt/conda/envs/Python-RT24.1/lib/python3.11/site-packages (from httpcore==1.*->httpx<1,>=0.23.0->openai) (0.16.0)\n",
      "Requirement already satisfied: annotated-types>=0.6.0 in /opt/conda/envs/Python-RT24.1/lib/python3.11/site-packages (from pydantic<3,>=1.9.0->openai) (0.6.0)\n",
      "Requirement already satisfied: pydantic-core==2.27.1 in /opt/conda/envs/Python-RT24.1/lib/python3.11/site-packages (from pydantic<3,>=1.9.0->openai) (2.27.1)\n",
      "Hello! I am your AI Travel Planner 🌍\n",
      "Let's plan your perfect trip!\n"
     ]
    }
   ],
   "source": [
    "!pip install openai\n",
    "\n",
    "import openai\n",
    "import random\n",
    "\n",
    "openai.api_key = \"your-openai-api-key\"\n",
    "\n",
    "print(\"Hello! I am your AI Travel Planner 🌍\")\n",
    "print(\"Let's plan your perfect trip!\")\n",
    "\n",
    "location = input(\"Where would you like to travel? \")\n",
    "days = input(\"How many days will your trip be? \")\n",
    "budget = input(\"What's your total budget? \")\n",
    "interests = input(\"What are your interests? (e.g., beaches, food, adventure) \")\n",
    "\n",
    "weather_list = [\"Sunny\", \"Cloudy\", \"Rainy\", \"Pleasant\", \"Windy\"]\n",
    "temperature = random.randint(24, 34)\n",
    "weather = random.choice(weather_list)\n",
    "\n",
    "print(f\"\\n📍 Destination: {location}\")\n",
    "print(f\"🗓️ Trip Duration: {days} days\")\n",
    "print(f\"💰 Budget: {budget}\")\n",
    "print(f\"🎯 Interests: {interests}\")\n",
    "print(f\"🌦️ Expected Weather: {weather}, {temperature}°C\")\n",
    "\n",
    "prompt = f\"\"\"\n",
    "Plan a {days}-day trip to {location} for a person interested in {interests}.\n",
    "Budget: {budget}.\n",
    "Include:\n",
    "- Day-wise places to visit\n",
    "- Fun activities\n",
    "- Travel or hotel suggestions\n",
    "- Any tips or local food ideas\n",
    "\"\"\"\n",
    "\n",
    "response = openai.ChatCompletion.create(\n",
    "    model=\"gpt-3.5-turbo\",\n",
    "    messages=[\n",
    "        {\"role\": \"system\", \"content\": \"You are a helpful travel assistant.\"},\n",
    "        {\"role\": \"user\", \"content\": prompt}\n",
    "    ]\n",
    ")\n",
    "\n",
    "print(\"\\n🧭 Here's your travel plan:\\n\")\n",
    "print(response['choices'][0]['message']['content'])\n",
    "\n",
    "import os, types\n",
    "import pandas as pd\n",
    "from botocore.client import Config\n",
    "import ibm_boto3\n",
    "\n",
    "def __iter__(self): return 0\n",
    "\n",
    "\n",
    "\n",
    "cos_client = ibm_boto3.client(service_name='s3',\n",
    "    ibm_api_key_id='PP9jRlPIGJ4wcI2PMmV2JmwsZqo6wUxaExzm34HKFK60',\n",
    "    ibm_auth_endpoint=\"https://iam.cloud.ibm.com/identity/token\",\n",
    "    config=Config(signature_version='oauth'),\n",
    "    endpoint_url='https://s3.direct.au-syd.cloud-object-storage.appdomain.cloud')\n",
    "\n",
    "bucket = 'keerthi1-donotdelete-pr-tyaetpfigxqo0c'\n",
    "object_key = 'travel_data.csv'\n",
    "\n",
    "body = cos_client.get_object(Bucket=bucket,Key=object_key)['Body']\n",
    "\n",
    "if not hasattr(body, \"__iter__\"): body.__iter__ = types.MethodType( __iter__, body )\n",
    "\n",
    "df_1 = pd.read_csv(body)\n",
    "df_1.head(10)\n"
   ]
  },
  {
   "cell_type": "code",
   "execution_count": null,
   "metadata": {
    "id": "c4a828ca-995f-44b2-b91d-92311dbbacd0"
   },
   "outputs": [],
   "source": []
  }
 ],
 "metadata": {
  "kernelspec": {
   "display_name": "Python 3.11",
   "language": "python",
   "name": "python3"
  },
  "language_info": {
   "codemirror_mode": {
    "name": "ipython",
    "version": 3
   },
   "file_extension": ".py",
   "mimetype": "text/x-python",
   "name": "python",
   "nbconvert_exporter": "python",
   "pygments_lexer": "ipython3",
   "version": "3.11.13"
  }
 },
 "nbformat": 4,
 "nbformat_minor": 4
}
